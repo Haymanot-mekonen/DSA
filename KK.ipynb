{
 "cells": [
  {
   "cell_type": "code",
   "execution_count": null,
   "id": "6f08aa9b",
   "metadata": {},
   "outputs": [],
   "source": [
    "print(\"ff\")"
   ]
  }
 ],
 "metadata": {
  "language_info": {
   "name": "python"
  }
 },
 "nbformat": 4,
 "nbformat_minor": 5
}
